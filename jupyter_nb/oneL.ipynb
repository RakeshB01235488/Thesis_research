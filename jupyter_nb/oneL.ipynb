{
 "cells": [
  {
   "cell_type": "code",
   "execution_count": 1,
   "metadata": {},
   "outputs": [],
   "source": [
    "import math\n",
    "import numpy as np\n",
    "import pandas as pd\n",
    "import scipy\n",
    "import seaborn as sn\n",
    "import matplotlib\n",
    "import matplotlib.pyplot as plt\n",
    "\n",
    "import scipy.stats\n",
    "from scipy import stats, optimize\n",
    "from scipy.stats import genextreme\n",
    "\n",
    "from sklearn import svm\n",
    "from sklearn.preprocessing import MinMaxScaler\n",
    "\n",
    "sn.set(rc={'figure.figsize':(11, 4)})\n",
    "%matplotlib notebook\n",
    "%run oneG.ipynb"
   ]
  },
  {
   "cell_type": "code",
   "execution_count": 2,
   "metadata": {},
   "outputs": [],
   "source": [
    "data = pd.read_csv('cs1_L95.csv')"
   ]
  },
  {
   "cell_type": "code",
   "execution_count": 3,
   "metadata": {},
   "outputs": [
    {
     "data": {
      "text/html": [
       "<div>\n",
       "<style scoped>\n",
       "    .dataframe tbody tr th:only-of-type {\n",
       "        vertical-align: middle;\n",
       "    }\n",
       "\n",
       "    .dataframe tbody tr th {\n",
       "        vertical-align: top;\n",
       "    }\n",
       "\n",
       "    .dataframe thead th {\n",
       "        text-align: right;\n",
       "    }\n",
       "</style>\n",
       "<table border=\"1\" class=\"dataframe\">\n",
       "  <thead>\n",
       "    <tr style=\"text-align: right;\">\n",
       "      <th></th>\n",
       "      <th>Unnamed: 0</th>\n",
       "      <th>runoff_obs</th>\n",
       "      <th>basin_cfs_pred</th>\n",
       "      <th>Id</th>\n",
       "      <th>year</th>\n",
       "      <th>month</th>\n",
       "      <th>day</th>\n",
       "      <th>precip</th>\n",
       "      <th>tmax</th>\n",
       "      <th>tmin</th>\n",
       "    </tr>\n",
       "  </thead>\n",
       "  <tbody>\n",
       "    <tr>\n",
       "      <td>0</td>\n",
       "      <td>0</td>\n",
       "      <td>2.7</td>\n",
       "      <td>3.890482</td>\n",
       "      <td>1</td>\n",
       "      <td>2002</td>\n",
       "      <td>10</td>\n",
       "      <td>1</td>\n",
       "      <td>0.13</td>\n",
       "      <td>57.4</td>\n",
       "      <td>34.6</td>\n",
       "    </tr>\n",
       "    <tr>\n",
       "      <td>1</td>\n",
       "      <td>1</td>\n",
       "      <td>2.7</td>\n",
       "      <td>3.041588</td>\n",
       "      <td>2</td>\n",
       "      <td>2002</td>\n",
       "      <td>10</td>\n",
       "      <td>2</td>\n",
       "      <td>0.97</td>\n",
       "      <td>38.4</td>\n",
       "      <td>29.7</td>\n",
       "    </tr>\n",
       "    <tr>\n",
       "      <td>2</td>\n",
       "      <td>2</td>\n",
       "      <td>2.8</td>\n",
       "      <td>2.796749</td>\n",
       "      <td>3</td>\n",
       "      <td>2002</td>\n",
       "      <td>10</td>\n",
       "      <td>3</td>\n",
       "      <td>0.04</td>\n",
       "      <td>41.2</td>\n",
       "      <td>31.7</td>\n",
       "    </tr>\n",
       "    <tr>\n",
       "      <td>3</td>\n",
       "      <td>3</td>\n",
       "      <td>2.8</td>\n",
       "      <td>2.600715</td>\n",
       "      <td>4</td>\n",
       "      <td>2002</td>\n",
       "      <td>10</td>\n",
       "      <td>4</td>\n",
       "      <td>0.00</td>\n",
       "      <td>52.9</td>\n",
       "      <td>34.0</td>\n",
       "    </tr>\n",
       "    <tr>\n",
       "      <td>4</td>\n",
       "      <td>4</td>\n",
       "      <td>2.6</td>\n",
       "      <td>2.439560</td>\n",
       "      <td>5</td>\n",
       "      <td>2002</td>\n",
       "      <td>10</td>\n",
       "      <td>5</td>\n",
       "      <td>0.00</td>\n",
       "      <td>50.5</td>\n",
       "      <td>34.8</td>\n",
       "    </tr>\n",
       "    <tr>\n",
       "      <td>...</td>\n",
       "      <td>...</td>\n",
       "      <td>...</td>\n",
       "      <td>...</td>\n",
       "      <td>...</td>\n",
       "      <td>...</td>\n",
       "      <td>...</td>\n",
       "      <td>...</td>\n",
       "      <td>...</td>\n",
       "      <td>...</td>\n",
       "      <td>...</td>\n",
       "    </tr>\n",
       "    <tr>\n",
       "      <td>3460</td>\n",
       "      <td>3648</td>\n",
       "      <td>4.4</td>\n",
       "      <td>5.014700</td>\n",
       "      <td>3649</td>\n",
       "      <td>2012</td>\n",
       "      <td>9</td>\n",
       "      <td>26</td>\n",
       "      <td>0.00</td>\n",
       "      <td>59.2</td>\n",
       "      <td>41.0</td>\n",
       "    </tr>\n",
       "    <tr>\n",
       "      <td>3461</td>\n",
       "      <td>3649</td>\n",
       "      <td>4.3</td>\n",
       "      <td>4.979207</td>\n",
       "      <td>3650</td>\n",
       "      <td>2012</td>\n",
       "      <td>9</td>\n",
       "      <td>27</td>\n",
       "      <td>0.00</td>\n",
       "      <td>64.1</td>\n",
       "      <td>43.2</td>\n",
       "    </tr>\n",
       "    <tr>\n",
       "      <td>3462</td>\n",
       "      <td>3650</td>\n",
       "      <td>4.2</td>\n",
       "      <td>5.001390</td>\n",
       "      <td>3651</td>\n",
       "      <td>2012</td>\n",
       "      <td>9</td>\n",
       "      <td>28</td>\n",
       "      <td>0.00</td>\n",
       "      <td>68.0</td>\n",
       "      <td>46.2</td>\n",
       "    </tr>\n",
       "    <tr>\n",
       "      <td>3463</td>\n",
       "      <td>3651</td>\n",
       "      <td>4.2</td>\n",
       "      <td>5.114594</td>\n",
       "      <td>3652</td>\n",
       "      <td>2012</td>\n",
       "      <td>9</td>\n",
       "      <td>29</td>\n",
       "      <td>0.00</td>\n",
       "      <td>69.8</td>\n",
       "      <td>50.9</td>\n",
       "    </tr>\n",
       "    <tr>\n",
       "      <td>3464</td>\n",
       "      <td>3652</td>\n",
       "      <td>4.1</td>\n",
       "      <td>5.269021</td>\n",
       "      <td>3653</td>\n",
       "      <td>2012</td>\n",
       "      <td>9</td>\n",
       "      <td>30</td>\n",
       "      <td>0.00</td>\n",
       "      <td>72.8</td>\n",
       "      <td>52.0</td>\n",
       "    </tr>\n",
       "  </tbody>\n",
       "</table>\n",
       "<p>3465 rows × 10 columns</p>\n",
       "</div>"
      ],
      "text/plain": [
       "      Unnamed: 0  runoff_obs  basin_cfs_pred    Id  year  month  day  precip  \\\n",
       "0              0         2.7        3.890482     1  2002     10    1    0.13   \n",
       "1              1         2.7        3.041588     2  2002     10    2    0.97   \n",
       "2              2         2.8        2.796749     3  2002     10    3    0.04   \n",
       "3              3         2.8        2.600715     4  2002     10    4    0.00   \n",
       "4              4         2.6        2.439560     5  2002     10    5    0.00   \n",
       "...          ...         ...             ...   ...   ...    ...  ...     ...   \n",
       "3460        3648         4.4        5.014700  3649  2012      9   26    0.00   \n",
       "3461        3649         4.3        4.979207  3650  2012      9   27    0.00   \n",
       "3462        3650         4.2        5.001390  3651  2012      9   28    0.00   \n",
       "3463        3651         4.2        5.114594  3652  2012      9   29    0.00   \n",
       "3464        3652         4.1        5.269021  3653  2012      9   30    0.00   \n",
       "\n",
       "      tmax  tmin  \n",
       "0     57.4  34.6  \n",
       "1     38.4  29.7  \n",
       "2     41.2  31.7  \n",
       "3     52.9  34.0  \n",
       "4     50.5  34.8  \n",
       "...    ...   ...  \n",
       "3460  59.2  41.0  \n",
       "3461  64.1  43.2  \n",
       "3462  68.0  46.2  \n",
       "3463  69.8  50.9  \n",
       "3464  72.8  52.0  \n",
       "\n",
       "[3465 rows x 10 columns]"
      ]
     },
     "execution_count": 3,
     "metadata": {},
     "output_type": "execute_result"
    }
   ],
   "source": [
    "data"
   ]
  },
  {
   "cell_type": "code",
   "execution_count": 3,
   "metadata": {},
   "outputs": [],
   "source": [
    "from datetime import date"
   ]
  },
  {
   "cell_type": "code",
   "execution_count": 4,
   "metadata": {},
   "outputs": [],
   "source": [
    "data = data.assign(Date=pd.to_datetime(data[['year', 'month','day']]))"
   ]
  },
  {
   "cell_type": "code",
   "execution_count": 5,
   "metadata": {},
   "outputs": [],
   "source": [
    "data.drop(data.columns[[0,2,3,4,5,6]], axis=1, inplace=True)"
   ]
  },
  {
   "cell_type": "code",
   "execution_count": 6,
   "metadata": {},
   "outputs": [],
   "source": [
    "data = data.set_index('Date')"
   ]
  },
  {
   "cell_type": "code",
   "execution_count": 7,
   "metadata": {},
   "outputs": [
    {
     "data": {
      "text/html": [
       "<div>\n",
       "<style scoped>\n",
       "    .dataframe tbody tr th:only-of-type {\n",
       "        vertical-align: middle;\n",
       "    }\n",
       "\n",
       "    .dataframe tbody tr th {\n",
       "        vertical-align: top;\n",
       "    }\n",
       "\n",
       "    .dataframe thead th {\n",
       "        text-align: right;\n",
       "    }\n",
       "</style>\n",
       "<table border=\"1\" class=\"dataframe\">\n",
       "  <thead>\n",
       "    <tr style=\"text-align: right;\">\n",
       "      <th></th>\n",
       "      <th>runoff_obs</th>\n",
       "      <th>precip</th>\n",
       "      <th>tmax</th>\n",
       "      <th>tmin</th>\n",
       "    </tr>\n",
       "    <tr>\n",
       "      <th>Date</th>\n",
       "      <th></th>\n",
       "      <th></th>\n",
       "      <th></th>\n",
       "      <th></th>\n",
       "    </tr>\n",
       "  </thead>\n",
       "  <tbody>\n",
       "    <tr>\n",
       "      <td>2002-10-01</td>\n",
       "      <td>2.7</td>\n",
       "      <td>0.13</td>\n",
       "      <td>57.4</td>\n",
       "      <td>34.6</td>\n",
       "    </tr>\n",
       "    <tr>\n",
       "      <td>2002-10-02</td>\n",
       "      <td>2.7</td>\n",
       "      <td>0.97</td>\n",
       "      <td>38.4</td>\n",
       "      <td>29.7</td>\n",
       "    </tr>\n",
       "    <tr>\n",
       "      <td>2002-10-03</td>\n",
       "      <td>2.8</td>\n",
       "      <td>0.04</td>\n",
       "      <td>41.2</td>\n",
       "      <td>31.7</td>\n",
       "    </tr>\n",
       "    <tr>\n",
       "      <td>2002-10-04</td>\n",
       "      <td>2.8</td>\n",
       "      <td>0.00</td>\n",
       "      <td>52.9</td>\n",
       "      <td>34.0</td>\n",
       "    </tr>\n",
       "    <tr>\n",
       "      <td>2002-10-05</td>\n",
       "      <td>2.6</td>\n",
       "      <td>0.00</td>\n",
       "      <td>50.5</td>\n",
       "      <td>34.8</td>\n",
       "    </tr>\n",
       "    <tr>\n",
       "      <td>...</td>\n",
       "      <td>...</td>\n",
       "      <td>...</td>\n",
       "      <td>...</td>\n",
       "      <td>...</td>\n",
       "    </tr>\n",
       "    <tr>\n",
       "      <td>2012-09-26</td>\n",
       "      <td>4.4</td>\n",
       "      <td>0.00</td>\n",
       "      <td>59.2</td>\n",
       "      <td>41.0</td>\n",
       "    </tr>\n",
       "    <tr>\n",
       "      <td>2012-09-27</td>\n",
       "      <td>4.3</td>\n",
       "      <td>0.00</td>\n",
       "      <td>64.1</td>\n",
       "      <td>43.2</td>\n",
       "    </tr>\n",
       "    <tr>\n",
       "      <td>2012-09-28</td>\n",
       "      <td>4.2</td>\n",
       "      <td>0.00</td>\n",
       "      <td>68.0</td>\n",
       "      <td>46.2</td>\n",
       "    </tr>\n",
       "    <tr>\n",
       "      <td>2012-09-29</td>\n",
       "      <td>4.2</td>\n",
       "      <td>0.00</td>\n",
       "      <td>69.8</td>\n",
       "      <td>50.9</td>\n",
       "    </tr>\n",
       "    <tr>\n",
       "      <td>2012-09-30</td>\n",
       "      <td>4.1</td>\n",
       "      <td>0.00</td>\n",
       "      <td>72.8</td>\n",
       "      <td>52.0</td>\n",
       "    </tr>\n",
       "  </tbody>\n",
       "</table>\n",
       "<p>3465 rows × 4 columns</p>\n",
       "</div>"
      ],
      "text/plain": [
       "            runoff_obs  precip  tmax  tmin\n",
       "Date                                      \n",
       "2002-10-01         2.7    0.13  57.4  34.6\n",
       "2002-10-02         2.7    0.97  38.4  29.7\n",
       "2002-10-03         2.8    0.04  41.2  31.7\n",
       "2002-10-04         2.8    0.00  52.9  34.0\n",
       "2002-10-05         2.6    0.00  50.5  34.8\n",
       "...                ...     ...   ...   ...\n",
       "2012-09-26         4.4    0.00  59.2  41.0\n",
       "2012-09-27         4.3    0.00  64.1  43.2\n",
       "2012-09-28         4.2    0.00  68.0  46.2\n",
       "2012-09-29         4.2    0.00  69.8  50.9\n",
       "2012-09-30         4.1    0.00  72.8  52.0\n",
       "\n",
       "[3465 rows x 4 columns]"
      ]
     },
     "execution_count": 7,
     "metadata": {},
     "output_type": "execute_result"
    }
   ],
   "source": [
    "data"
   ]
  },
  {
   "cell_type": "code",
   "execution_count": 8,
   "metadata": {},
   "outputs": [],
   "source": [
    "data_values = data.values\n",
    "features = data_values[:,1:]\n",
    "values = data_values[:,0]"
   ]
  },
  {
   "cell_type": "code",
   "execution_count": 9,
   "metadata": {},
   "outputs": [],
   "source": [
    "from sklearn.model_selection import train_test_split"
   ]
  },
  {
   "cell_type": "code",
   "execution_count": 10,
   "metadata": {},
   "outputs": [],
   "source": [
    "#X_train, X_test, Y_train, Y_test = train_test_split(features, values,test_size=0.3)"
   ]
  },
  {
   "cell_type": "code",
   "execution_count": 11,
   "metadata": {},
   "outputs": [],
   "source": [
    "from sklearn.ensemble import GradientBoostingRegressor\n",
    "clf = GradientBoostingRegressor(loss='ls', learning_rate=0.1, n_estimators=100,\n",
    "       subsample=1.0, criterion='friedman_mse', min_samples_split=2, min_samples_leaf=1,\n",
    "       min_weight_fraction_leaf=0.0, max_depth=3, min_impurity_decrease=0.0, min_impurity_split=None,\n",
    "       init=None, random_state=None, max_features=None, alpha=0.9, verbose=0, max_leaf_nodes=None, \n",
    "       warm_start=False, presort='auto', validation_fraction=0.1, tol=0.0001)"
   ]
  },
  {
   "cell_type": "code",
   "execution_count": 12,
   "metadata": {},
   "outputs": [],
   "source": [
    "#clf.fit(X_train, Y_train, sample_weight=None)"
   ]
  },
  {
   "cell_type": "code",
   "execution_count": 13,
   "metadata": {},
   "outputs": [],
   "source": [
    "# predict_Y = clf.predict(X_test)"
   ]
  },
  {
   "cell_type": "code",
   "execution_count": 14,
   "metadata": {},
   "outputs": [],
   "source": [
    "# predict_Yy = np.concatenate((predict_Y, predict_y))"
   ]
  },
  {
   "cell_type": "code",
   "execution_count": 15,
   "metadata": {},
   "outputs": [],
   "source": [
    "# predict_Yy"
   ]
  },
  {
   "cell_type": "code",
   "execution_count": 16,
   "metadata": {},
   "outputs": [],
   "source": [
    "# Yy_test = np.concatenate((Y_test, y_test))"
   ]
  },
  {
   "cell_type": "code",
   "execution_count": 17,
   "metadata": {},
   "outputs": [],
   "source": [
    "# Yy_test"
   ]
  },
  {
   "cell_type": "code",
   "execution_count": 18,
   "metadata": {},
   "outputs": [],
   "source": [
    "# from sklearn.metrics import r2_score\n",
    "# r2_score(Yy_test, predict_Yy)"
   ]
  },
  {
   "cell_type": "code",
   "execution_count": 19,
   "metadata": {},
   "outputs": [],
   "source": [
    "from sklearn.metrics import r2_score\n",
    "arr_r2 = []\n",
    "\n",
    "for i in range(10):\n",
    "    \n",
    "    X_train, X_test, Y_train, Y_test = train_test_split(features, values,test_size=0.3)\n",
    "    clf.fit(X_train, Y_train, sample_weight=None)\n",
    "    predict_Y = clf.predict(X_test)\n",
    "    predict_Yy = np.concatenate((predict_Y, predict_y))\n",
    "    Yy_test = np.concatenate((Y_test, y_test))\n",
    "    \n",
    "    arr_r2.append(r2_score(Yy_test, predict_Yy))"
   ]
  },
  {
   "cell_type": "code",
   "execution_count": 20,
   "metadata": {},
   "outputs": [
    {
     "data": {
      "text/plain": [
       "[0.6551410224630331,\n",
       " 0.661404246010478,\n",
       " 0.6575389589827312,\n",
       " 0.6560774523457437,\n",
       " 0.6514495161920073,\n",
       " 0.6527360543675713,\n",
       " 0.6487703296655594,\n",
       " 0.6542902598064413,\n",
       " 0.6552403733652499,\n",
       " 0.6575648366086462]"
      ]
     },
     "execution_count": 20,
     "metadata": {},
     "output_type": "execute_result"
    }
   ],
   "source": [
    "arr_r2"
   ]
  },
  {
   "cell_type": "code",
   "execution_count": 21,
   "metadata": {},
   "outputs": [
    {
     "data": {
      "text/plain": [
       "0.6550213049807462"
      ]
     },
     "execution_count": 21,
     "metadata": {},
     "output_type": "execute_result"
    }
   ],
   "source": [
    "np.mean(arr_r2)"
   ]
  },
  {
   "cell_type": "code",
   "execution_count": null,
   "metadata": {},
   "outputs": [],
   "source": []
  }
 ],
 "metadata": {
  "kernelspec": {
   "display_name": "Python 3",
   "language": "python",
   "name": "python3"
  },
  "language_info": {
   "codemirror_mode": {
    "name": "ipython",
    "version": 3
   },
   "file_extension": ".py",
   "mimetype": "text/x-python",
   "name": "python",
   "nbconvert_exporter": "python",
   "pygments_lexer": "ipython3",
   "version": "3.6.8"
  }
 },
 "nbformat": 4,
 "nbformat_minor": 2
}
