{
 "cells": [
  {
   "cell_type": "code",
   "execution_count": 104,
   "metadata": {},
   "outputs": [],
   "source": [
    "import math\n",
    "import numpy as np\n",
    "import pandas as pd\n",
    "import scipy\n",
    "import seaborn as sn\n",
    "import matplotlib\n",
    "import matplotlib.pyplot as plt\n",
    "\n",
    "import scipy.stats\n",
    "from scipy import stats, optimize\n",
    "from scipy.stats import genextreme\n",
    "\n",
    "from sklearn import svm\n",
    "from sklearn.preprocessing import MinMaxScaler\n",
    "\n",
    "sn.set(rc={'figure.figsize':(11, 4)})\n",
    "%matplotlib notebook"
   ]
  },
  {
   "cell_type": "code",
   "execution_count": 105,
   "metadata": {},
   "outputs": [],
   "source": [
    "train_data = pd.read_csv('train.csv')"
   ]
  },
  {
   "cell_type": "code",
   "execution_count": 106,
   "metadata": {},
   "outputs": [],
   "source": [
    "test_data = pd.read_csv('test.csv')\n",
    "target_values = (test_data['DP(deg)']).values"
   ]
  },
  {
   "cell_type": "code",
   "execution_count": 107,
   "metadata": {},
   "outputs": [],
   "source": [
    "from datetime import date\n",
    "train_data = train_data.assign(Date=pd.to_datetime(train_data[['YEAR', 'MO', 'DY', 'HR', 'MN']].rename(columns={'YEAR': 'year', 'MO': 'month', 'DY': 'day', 'HR': 'hour', 'MN': 'minute'})))"
   ]
  },
  {
   "cell_type": "code",
   "execution_count": 108,
   "metadata": {},
   "outputs": [],
   "source": [
    "train_data = train_data.set_index('Date')"
   ]
  },
  {
   "cell_type": "code",
   "execution_count": 109,
   "metadata": {},
   "outputs": [],
   "source": [
    "train_data.drop(train_data.columns[[0,1,2,3,4,10]], axis=1, inplace=True)"
   ]
  },
  {
   "cell_type": "code",
   "execution_count": 110,
   "metadata": {},
   "outputs": [],
   "source": [
    "train_data = train_data[['DP(deg)', 'HS(m)', 'TP(sec)', 'Ta(sec)', 'Temp(Sfc(c))']]\n",
    "train_data.to_csv(\"training.csv\")"
   ]
  },
  {
   "cell_type": "code",
   "execution_count": 111,
   "metadata": {},
   "outputs": [],
   "source": [
    "data_values = train_data.values\n",
    "features = data_values[:,1:]\n",
    "values = data_values[:,0]"
   ]
  },
  {
   "cell_type": "code",
   "execution_count": 112,
   "metadata": {},
   "outputs": [],
   "source": [
    "from sklearn.ensemble import GradientBoostingRegressor\n",
    "clf = GradientBoostingRegressor(loss='ls', learning_rate=0.1, n_estimators=100,\n",
    "       subsample=1.0, criterion='friedman_mse', min_samples_split=2, min_samples_leaf=1,\n",
    "       min_weight_fraction_leaf=0.0, max_depth=3, min_impurity_decrease=0.0, min_impurity_split=None,\n",
    "       init=None, random_state=None, max_features=None, alpha=0.9, verbose=0, max_leaf_nodes=None, \n",
    "       warm_start=False, presort='auto', validation_fraction=0.1, tol=0.0001)"
   ]
  },
  {
   "cell_type": "code",
   "execution_count": 113,
   "metadata": {},
   "outputs": [
    {
     "data": {
      "text/plain": [
       "GradientBoostingRegressor(alpha=0.9, criterion='friedman_mse', init=None,\n",
       "                          learning_rate=0.1, loss='ls', max_depth=3,\n",
       "                          max_features=None, max_leaf_nodes=None,\n",
       "                          min_impurity_decrease=0.0, min_impurity_split=None,\n",
       "                          min_samples_leaf=1, min_samples_split=2,\n",
       "                          min_weight_fraction_leaf=0.0, n_estimators=100,\n",
       "                          n_iter_no_change=None, presort='auto',\n",
       "                          random_state=None, subsample=1.0, tol=0.0001,\n",
       "                          validation_fraction=0.1, verbose=0, warm_start=False)"
      ]
     },
     "execution_count": 113,
     "metadata": {},
     "output_type": "execute_result"
    }
   ],
   "source": [
    "clf.fit(features, values, sample_weight=None)"
   ]
  },
  {
   "cell_type": "code",
   "execution_count": 114,
   "metadata": {},
   "outputs": [],
   "source": [
    "from datetime import date\n",
    "test_data = test_data.assign(Date=pd.to_datetime(test_data[['YEAR', 'MO', 'DY', 'HR', 'MN']].rename(columns={'YEAR': 'year', 'MO': 'month', 'DY': 'day', 'HR': 'hour', 'MN': 'minute'})))"
   ]
  },
  {
   "cell_type": "code",
   "execution_count": 115,
   "metadata": {},
   "outputs": [],
   "source": [
    "test_data.drop(test_data.columns[[0,1,2,3,4,10]], axis=1, inplace=True)"
   ]
  },
  {
   "cell_type": "code",
   "execution_count": 116,
   "metadata": {},
   "outputs": [
    {
     "data": {
      "text/html": [
       "<div>\n",
       "<style scoped>\n",
       "    .dataframe tbody tr th:only-of-type {\n",
       "        vertical-align: middle;\n",
       "    }\n",
       "\n",
       "    .dataframe tbody tr th {\n",
       "        vertical-align: top;\n",
       "    }\n",
       "\n",
       "    .dataframe thead th {\n",
       "        text-align: right;\n",
       "    }\n",
       "</style>\n",
       "<table border=\"1\" class=\"dataframe\">\n",
       "  <thead>\n",
       "    <tr style=\"text-align: right;\">\n",
       "      <th></th>\n",
       "      <th>HS(m)</th>\n",
       "      <th>TP(sec)</th>\n",
       "      <th>DP(deg)</th>\n",
       "      <th>Ta(sec)</th>\n",
       "      <th>Temp(Sfc(c))</th>\n",
       "      <th>Date</th>\n",
       "    </tr>\n",
       "  </thead>\n",
       "  <tbody>\n",
       "    <tr>\n",
       "      <td>0</td>\n",
       "      <td>2.30</td>\n",
       "      <td>6.25</td>\n",
       "      <td>9</td>\n",
       "      <td>5.16</td>\n",
       "      <td>11.0</td>\n",
       "      <td>2018-01-01 00:21:00</td>\n",
       "    </tr>\n",
       "    <tr>\n",
       "      <td>1</td>\n",
       "      <td>2.41</td>\n",
       "      <td>6.25</td>\n",
       "      <td>357</td>\n",
       "      <td>5.23</td>\n",
       "      <td>11.0</td>\n",
       "      <td>2018-01-01 00:51:00</td>\n",
       "    </tr>\n",
       "    <tr>\n",
       "      <td>2</td>\n",
       "      <td>2.49</td>\n",
       "      <td>6.25</td>\n",
       "      <td>359</td>\n",
       "      <td>5.24</td>\n",
       "      <td>10.9</td>\n",
       "      <td>2018-01-01 01:21:00</td>\n",
       "    </tr>\n",
       "    <tr>\n",
       "      <td>3</td>\n",
       "      <td>2.12</td>\n",
       "      <td>6.25</td>\n",
       "      <td>0</td>\n",
       "      <td>5.04</td>\n",
       "      <td>11.0</td>\n",
       "      <td>2018-01-01 01:51:00</td>\n",
       "    </tr>\n",
       "    <tr>\n",
       "      <td>4</td>\n",
       "      <td>2.28</td>\n",
       "      <td>6.67</td>\n",
       "      <td>359</td>\n",
       "      <td>5.18</td>\n",
       "      <td>10.9</td>\n",
       "      <td>2018-01-01 02:21:00</td>\n",
       "    </tr>\n",
       "    <tr>\n",
       "      <td>...</td>\n",
       "      <td>...</td>\n",
       "      <td>...</td>\n",
       "      <td>...</td>\n",
       "      <td>...</td>\n",
       "      <td>...</td>\n",
       "      <td>...</td>\n",
       "    </tr>\n",
       "    <tr>\n",
       "      <td>32672</td>\n",
       "      <td>1.66</td>\n",
       "      <td>5.26</td>\n",
       "      <td>20</td>\n",
       "      <td>4.62</td>\n",
       "      <td>17.5</td>\n",
       "      <td>2019-11-15 19:19:00</td>\n",
       "    </tr>\n",
       "    <tr>\n",
       "      <td>32673</td>\n",
       "      <td>1.75</td>\n",
       "      <td>5.56</td>\n",
       "      <td>38</td>\n",
       "      <td>4.83</td>\n",
       "      <td>17.5</td>\n",
       "      <td>2019-11-15 19:49:00</td>\n",
       "    </tr>\n",
       "    <tr>\n",
       "      <td>32674</td>\n",
       "      <td>1.85</td>\n",
       "      <td>5.56</td>\n",
       "      <td>40</td>\n",
       "      <td>4.90</td>\n",
       "      <td>17.5</td>\n",
       "      <td>2019-11-15 20:19:00</td>\n",
       "    </tr>\n",
       "    <tr>\n",
       "      <td>32675</td>\n",
       "      <td>1.98</td>\n",
       "      <td>5.56</td>\n",
       "      <td>14</td>\n",
       "      <td>4.92</td>\n",
       "      <td>17.5</td>\n",
       "      <td>2019-11-15 20:49:00</td>\n",
       "    </tr>\n",
       "    <tr>\n",
       "      <td>32676</td>\n",
       "      <td>2.08</td>\n",
       "      <td>5.56</td>\n",
       "      <td>26</td>\n",
       "      <td>5.11</td>\n",
       "      <td>17.6</td>\n",
       "      <td>2019-11-15 21:19:00</td>\n",
       "    </tr>\n",
       "  </tbody>\n",
       "</table>\n",
       "<p>32677 rows × 6 columns</p>\n",
       "</div>"
      ],
      "text/plain": [
       "       HS(m)  TP(sec)  DP(deg)  Ta(sec)  Temp(Sfc(c))                Date\n",
       "0       2.30     6.25        9     5.16          11.0 2018-01-01 00:21:00\n",
       "1       2.41     6.25      357     5.23          11.0 2018-01-01 00:51:00\n",
       "2       2.49     6.25      359     5.24          10.9 2018-01-01 01:21:00\n",
       "3       2.12     6.25        0     5.04          11.0 2018-01-01 01:51:00\n",
       "4       2.28     6.67      359     5.18          10.9 2018-01-01 02:21:00\n",
       "...      ...      ...      ...      ...           ...                 ...\n",
       "32672   1.66     5.26       20     4.62          17.5 2019-11-15 19:19:00\n",
       "32673   1.75     5.56       38     4.83          17.5 2019-11-15 19:49:00\n",
       "32674   1.85     5.56       40     4.90          17.5 2019-11-15 20:19:00\n",
       "32675   1.98     5.56       14     4.92          17.5 2019-11-15 20:49:00\n",
       "32676   2.08     5.56       26     5.11          17.6 2019-11-15 21:19:00\n",
       "\n",
       "[32677 rows x 6 columns]"
      ]
     },
     "execution_count": 116,
     "metadata": {},
     "output_type": "execute_result"
    }
   ],
   "source": [
    "test_data"
   ]
  },
  {
   "cell_type": "code",
   "execution_count": 117,
   "metadata": {},
   "outputs": [],
   "source": [
    "test_data = test_data.set_index('Date')"
   ]
  },
  {
   "cell_type": "code",
   "execution_count": 118,
   "metadata": {},
   "outputs": [
    {
     "data": {
      "text/html": [
       "<div>\n",
       "<style scoped>\n",
       "    .dataframe tbody tr th:only-of-type {\n",
       "        vertical-align: middle;\n",
       "    }\n",
       "\n",
       "    .dataframe tbody tr th {\n",
       "        vertical-align: top;\n",
       "    }\n",
       "\n",
       "    .dataframe thead th {\n",
       "        text-align: right;\n",
       "    }\n",
       "</style>\n",
       "<table border=\"1\" class=\"dataframe\">\n",
       "  <thead>\n",
       "    <tr style=\"text-align: right;\">\n",
       "      <th></th>\n",
       "      <th>HS(m)</th>\n",
       "      <th>TP(sec)</th>\n",
       "      <th>DP(deg)</th>\n",
       "      <th>Ta(sec)</th>\n",
       "      <th>Temp(Sfc(c))</th>\n",
       "    </tr>\n",
       "    <tr>\n",
       "      <th>Date</th>\n",
       "      <th></th>\n",
       "      <th></th>\n",
       "      <th></th>\n",
       "      <th></th>\n",
       "      <th></th>\n",
       "    </tr>\n",
       "  </thead>\n",
       "  <tbody>\n",
       "    <tr>\n",
       "      <td>2018-01-01 00:21:00</td>\n",
       "      <td>2.30</td>\n",
       "      <td>6.25</td>\n",
       "      <td>9</td>\n",
       "      <td>5.16</td>\n",
       "      <td>11.0</td>\n",
       "    </tr>\n",
       "    <tr>\n",
       "      <td>2018-01-01 00:51:00</td>\n",
       "      <td>2.41</td>\n",
       "      <td>6.25</td>\n",
       "      <td>357</td>\n",
       "      <td>5.23</td>\n",
       "      <td>11.0</td>\n",
       "    </tr>\n",
       "    <tr>\n",
       "      <td>2018-01-01 01:21:00</td>\n",
       "      <td>2.49</td>\n",
       "      <td>6.25</td>\n",
       "      <td>359</td>\n",
       "      <td>5.24</td>\n",
       "      <td>10.9</td>\n",
       "    </tr>\n",
       "    <tr>\n",
       "      <td>2018-01-01 01:51:00</td>\n",
       "      <td>2.12</td>\n",
       "      <td>6.25</td>\n",
       "      <td>0</td>\n",
       "      <td>5.04</td>\n",
       "      <td>11.0</td>\n",
       "    </tr>\n",
       "    <tr>\n",
       "      <td>2018-01-01 02:21:00</td>\n",
       "      <td>2.28</td>\n",
       "      <td>6.67</td>\n",
       "      <td>359</td>\n",
       "      <td>5.18</td>\n",
       "      <td>10.9</td>\n",
       "    </tr>\n",
       "    <tr>\n",
       "      <td>...</td>\n",
       "      <td>...</td>\n",
       "      <td>...</td>\n",
       "      <td>...</td>\n",
       "      <td>...</td>\n",
       "      <td>...</td>\n",
       "    </tr>\n",
       "    <tr>\n",
       "      <td>2019-11-15 19:19:00</td>\n",
       "      <td>1.66</td>\n",
       "      <td>5.26</td>\n",
       "      <td>20</td>\n",
       "      <td>4.62</td>\n",
       "      <td>17.5</td>\n",
       "    </tr>\n",
       "    <tr>\n",
       "      <td>2019-11-15 19:49:00</td>\n",
       "      <td>1.75</td>\n",
       "      <td>5.56</td>\n",
       "      <td>38</td>\n",
       "      <td>4.83</td>\n",
       "      <td>17.5</td>\n",
       "    </tr>\n",
       "    <tr>\n",
       "      <td>2019-11-15 20:19:00</td>\n",
       "      <td>1.85</td>\n",
       "      <td>5.56</td>\n",
       "      <td>40</td>\n",
       "      <td>4.90</td>\n",
       "      <td>17.5</td>\n",
       "    </tr>\n",
       "    <tr>\n",
       "      <td>2019-11-15 20:49:00</td>\n",
       "      <td>1.98</td>\n",
       "      <td>5.56</td>\n",
       "      <td>14</td>\n",
       "      <td>4.92</td>\n",
       "      <td>17.5</td>\n",
       "    </tr>\n",
       "    <tr>\n",
       "      <td>2019-11-15 21:19:00</td>\n",
       "      <td>2.08</td>\n",
       "      <td>5.56</td>\n",
       "      <td>26</td>\n",
       "      <td>5.11</td>\n",
       "      <td>17.6</td>\n",
       "    </tr>\n",
       "  </tbody>\n",
       "</table>\n",
       "<p>32677 rows × 5 columns</p>\n",
       "</div>"
      ],
      "text/plain": [
       "                     HS(m)  TP(sec)  DP(deg)  Ta(sec)  Temp(Sfc(c))\n",
       "Date                                                               \n",
       "2018-01-01 00:21:00   2.30     6.25        9     5.16          11.0\n",
       "2018-01-01 00:51:00   2.41     6.25      357     5.23          11.0\n",
       "2018-01-01 01:21:00   2.49     6.25      359     5.24          10.9\n",
       "2018-01-01 01:51:00   2.12     6.25        0     5.04          11.0\n",
       "2018-01-01 02:21:00   2.28     6.67      359     5.18          10.9\n",
       "...                    ...      ...      ...      ...           ...\n",
       "2019-11-15 19:19:00   1.66     5.26       20     4.62          17.5\n",
       "2019-11-15 19:49:00   1.75     5.56       38     4.83          17.5\n",
       "2019-11-15 20:19:00   1.85     5.56       40     4.90          17.5\n",
       "2019-11-15 20:49:00   1.98     5.56       14     4.92          17.5\n",
       "2019-11-15 21:19:00   2.08     5.56       26     5.11          17.6\n",
       "\n",
       "[32677 rows x 5 columns]"
      ]
     },
     "execution_count": 118,
     "metadata": {},
     "output_type": "execute_result"
    }
   ],
   "source": [
    "test_data"
   ]
  },
  {
   "cell_type": "code",
   "execution_count": 119,
   "metadata": {},
   "outputs": [],
   "source": [
    "test_data.to_csv(\"testing.csv\")"
   ]
  },
  {
   "cell_type": "code",
   "execution_count": 87,
   "metadata": {},
   "outputs": [],
   "source": [
    "data_values_t = test_data.values\n",
    "features_t = data_values_t[:,0:]"
   ]
  },
  {
   "cell_type": "code",
   "execution_count": 88,
   "metadata": {},
   "outputs": [
    {
     "data": {
      "text/plain": [
       "array([[ 2.3 ,  6.25,  5.16, 11.  ],\n",
       "       [ 2.41,  6.25,  5.23, 11.  ],\n",
       "       [ 2.49,  6.25,  5.24, 10.9 ],\n",
       "       ...,\n",
       "       [ 1.85,  5.56,  4.9 , 17.5 ],\n",
       "       [ 1.98,  5.56,  4.92, 17.5 ],\n",
       "       [ 2.08,  5.56,  5.11, 17.6 ]])"
      ]
     },
     "execution_count": 88,
     "metadata": {},
     "output_type": "execute_result"
    }
   ],
   "source": [
    "features_t"
   ]
  },
  {
   "cell_type": "code",
   "execution_count": 89,
   "metadata": {},
   "outputs": [],
   "source": [
    "pred_values = clf.predict(features_t)"
   ]
  },
  {
   "cell_type": "code",
   "execution_count": 90,
   "metadata": {},
   "outputs": [
    {
     "data": {
      "text/plain": [
       "array([ 73.8003211 ,  63.53254003,  63.53254003, ..., 101.90232412,\n",
       "       109.78156695, 109.78156695])"
      ]
     },
     "execution_count": 90,
     "metadata": {},
     "output_type": "execute_result"
    }
   ],
   "source": [
    "pred_values"
   ]
  },
  {
   "cell_type": "code",
   "execution_count": 91,
   "metadata": {},
   "outputs": [
    {
     "data": {
      "text/plain": [
       "0.16740718183037717"
      ]
     },
     "execution_count": 91,
     "metadata": {},
     "output_type": "execute_result"
    }
   ],
   "source": [
    "from sklearn.metrics import r2_score\n",
    "r2_score(target_values, pred_values)"
   ]
  },
  {
   "cell_type": "code",
   "execution_count": 92,
   "metadata": {},
   "outputs": [],
   "source": [
    "from sklearn.svm import SVR"
   ]
  },
  {
   "cell_type": "code",
   "execution_count": 93,
   "metadata": {},
   "outputs": [],
   "source": [
    "clf1 = SVR(kernel='rbf', degree=3, gamma='scale', coef0=0.0, tol=0.001, C=1.0, epsilon=0.1, shrinking=True, cache_size=200, verbose=False, max_iter=-1)"
   ]
  },
  {
   "cell_type": "code",
   "execution_count": 94,
   "metadata": {},
   "outputs": [
    {
     "data": {
      "text/plain": [
       "SVR(C=1.0, cache_size=200, coef0=0.0, degree=3, epsilon=0.1, gamma='scale',\n",
       "    kernel='rbf', max_iter=-1, shrinking=True, tol=0.001, verbose=False)"
      ]
     },
     "execution_count": 94,
     "metadata": {},
     "output_type": "execute_result"
    }
   ],
   "source": [
    "clf1.fit(features, values, sample_weight=None)"
   ]
  },
  {
   "cell_type": "code",
   "execution_count": 95,
   "metadata": {},
   "outputs": [],
   "source": [
    "pred_values_1= clf1.predict(features_t)"
   ]
  },
  {
   "cell_type": "code",
   "execution_count": 96,
   "metadata": {},
   "outputs": [
    {
     "data": {
      "text/plain": [
       "0.15174665200702075"
      ]
     },
     "execution_count": 96,
     "metadata": {},
     "output_type": "execute_result"
    }
   ],
   "source": [
    "from sklearn.metrics import r2_score\n",
    "r2_score(target_values, pred_values_1)"
   ]
  },
  {
   "cell_type": "code",
   "execution_count": 97,
   "metadata": {},
   "outputs": [],
   "source": [
    "from sklearn.ensemble import RandomForestRegressor\n",
    "from sklearn.datasets import make_regression"
   ]
  },
  {
   "cell_type": "code",
   "execution_count": 98,
   "metadata": {},
   "outputs": [],
   "source": [
    "clf2 = RandomForestRegressor(n_estimators=100, criterion='mse', max_depth=None, min_samples_split=2, min_samples_leaf=1, min_weight_fraction_leaf=0.0, max_features='auto', max_leaf_nodes=None, min_impurity_decrease=0.0, min_impurity_split=None, bootstrap=True, oob_score=False, n_jobs=None, random_state=None, verbose=0, warm_start=False)"
   ]
  },
  {
   "cell_type": "code",
   "execution_count": 99,
   "metadata": {},
   "outputs": [
    {
     "data": {
      "text/plain": [
       "RandomForestRegressor(bootstrap=True, criterion='mse', max_depth=None,\n",
       "                      max_features='auto', max_leaf_nodes=None,\n",
       "                      min_impurity_decrease=0.0, min_impurity_split=None,\n",
       "                      min_samples_leaf=1, min_samples_split=2,\n",
       "                      min_weight_fraction_leaf=0.0, n_estimators=100,\n",
       "                      n_jobs=None, oob_score=False, random_state=None,\n",
       "                      verbose=0, warm_start=False)"
      ]
     },
     "execution_count": 99,
     "metadata": {},
     "output_type": "execute_result"
    }
   ],
   "source": [
    "clf2"
   ]
  },
  {
   "cell_type": "code",
   "execution_count": 100,
   "metadata": {},
   "outputs": [
    {
     "data": {
      "text/plain": [
       "RandomForestRegressor(bootstrap=True, criterion='mse', max_depth=None,\n",
       "                      max_features='auto', max_leaf_nodes=None,\n",
       "                      min_impurity_decrease=0.0, min_impurity_split=None,\n",
       "                      min_samples_leaf=1, min_samples_split=2,\n",
       "                      min_weight_fraction_leaf=0.0, n_estimators=100,\n",
       "                      n_jobs=None, oob_score=False, random_state=None,\n",
       "                      verbose=0, warm_start=False)"
      ]
     },
     "execution_count": 100,
     "metadata": {},
     "output_type": "execute_result"
    }
   ],
   "source": [
    "clf2.fit(features, values, sample_weight=None)"
   ]
  },
  {
   "cell_type": "code",
   "execution_count": 101,
   "metadata": {},
   "outputs": [],
   "source": [
    "pred_values_2 = clf2.predict(features_t)"
   ]
  },
  {
   "cell_type": "code",
   "execution_count": 102,
   "metadata": {},
   "outputs": [
    {
     "data": {
      "text/plain": [
       "array([ 96.11,  76.68,  88.02, ...,  28.07,  70.3 , 132.75])"
      ]
     },
     "execution_count": 102,
     "metadata": {},
     "output_type": "execute_result"
    }
   ],
   "source": [
    "pred_values_2"
   ]
  },
  {
   "cell_type": "code",
   "execution_count": 103,
   "metadata": {},
   "outputs": [
    {
     "data": {
      "text/plain": [
       "0.03757831256487432"
      ]
     },
     "execution_count": 103,
     "metadata": {},
     "output_type": "execute_result"
    }
   ],
   "source": [
    "from sklearn.metrics import r2_score\n",
    "r2_score(target_values, pred_values_2)"
   ]
  },
  {
   "cell_type": "code",
   "execution_count": null,
   "metadata": {},
   "outputs": [],
   "source": []
  }
 ],
 "metadata": {
  "kernelspec": {
   "display_name": "Python 3",
   "language": "python",
   "name": "python3"
  },
  "language_info": {
   "codemirror_mode": {
    "name": "ipython",
    "version": 3
   },
   "file_extension": ".py",
   "mimetype": "text/x-python",
   "name": "python",
   "nbconvert_exporter": "python",
   "pygments_lexer": "ipython3",
   "version": "3.6.8"
  }
 },
 "nbformat": 4,
 "nbformat_minor": 2
}
