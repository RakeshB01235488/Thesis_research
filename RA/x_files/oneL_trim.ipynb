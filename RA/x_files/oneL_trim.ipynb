{
 "cells": [
  {
   "cell_type": "code",
   "execution_count": 182,
   "metadata": {},
   "outputs": [],
   "source": [
    "import math\n",
    "import numpy as np\n",
    "import pandas as pd\n",
    "import scipy\n",
    "import seaborn as sn\n",
    "sn.set(rc={'figure.figsize':(11, 4)})\n",
    "\n",
    "from scipy import stats, optimize\n",
    "from scipy.stats import genextreme\n",
    "import matplotlib\n",
    "import matplotlib.pyplot as plt\n",
    "import scipy.stats\n",
    "from sklearn import svm\n",
    "from sklearn.preprocessing import MinMaxScaler\n",
    "%matplotlib notebook\n",
    "\n",
    "%run oneG_trim.ipynb"
   ]
  },
  {
   "cell_type": "code",
   "execution_count": 183,
   "metadata": {},
   "outputs": [],
   "source": [
    "data = pd.read_csv('cs1_L95.csv')"
   ]
  },
  {
   "cell_type": "code",
   "execution_count": 184,
   "metadata": {},
   "outputs": [],
   "source": [
    "from datetime import date"
   ]
  },
  {
   "cell_type": "code",
   "execution_count": 185,
   "metadata": {},
   "outputs": [],
   "source": [
    "data = data.assign(Date=pd.to_datetime(data[['year', 'month','day']]))"
   ]
  },
  {
   "cell_type": "code",
   "execution_count": 186,
   "metadata": {},
   "outputs": [],
   "source": [
    "data.drop(data.columns[[0,2,3,4,5,6]], axis=1, inplace=True)"
   ]
  },
  {
   "cell_type": "code",
   "execution_count": 187,
   "metadata": {},
   "outputs": [],
   "source": [
    "data = data.set_index('Date')"
   ]
  },
  {
   "cell_type": "code",
   "execution_count": 188,
   "metadata": {},
   "outputs": [
    {
     "data": {
      "text/html": [
       "<div>\n",
       "<style scoped>\n",
       "    .dataframe tbody tr th:only-of-type {\n",
       "        vertical-align: middle;\n",
       "    }\n",
       "\n",
       "    .dataframe tbody tr th {\n",
       "        vertical-align: top;\n",
       "    }\n",
       "\n",
       "    .dataframe thead th {\n",
       "        text-align: right;\n",
       "    }\n",
       "</style>\n",
       "<table border=\"1\" class=\"dataframe\">\n",
       "  <thead>\n",
       "    <tr style=\"text-align: right;\">\n",
       "      <th></th>\n",
       "      <th>runoff_obs</th>\n",
       "      <th>precip</th>\n",
       "      <th>tmax</th>\n",
       "      <th>tmin</th>\n",
       "    </tr>\n",
       "    <tr>\n",
       "      <th>Date</th>\n",
       "      <th></th>\n",
       "      <th></th>\n",
       "      <th></th>\n",
       "      <th></th>\n",
       "    </tr>\n",
       "  </thead>\n",
       "  <tbody>\n",
       "    <tr>\n",
       "      <td>2002-10-01</td>\n",
       "      <td>2.7</td>\n",
       "      <td>0.13</td>\n",
       "      <td>57.4</td>\n",
       "      <td>34.6</td>\n",
       "    </tr>\n",
       "    <tr>\n",
       "      <td>2002-10-02</td>\n",
       "      <td>2.7</td>\n",
       "      <td>0.97</td>\n",
       "      <td>38.4</td>\n",
       "      <td>29.7</td>\n",
       "    </tr>\n",
       "    <tr>\n",
       "      <td>2002-10-03</td>\n",
       "      <td>2.8</td>\n",
       "      <td>0.04</td>\n",
       "      <td>41.2</td>\n",
       "      <td>31.7</td>\n",
       "    </tr>\n",
       "    <tr>\n",
       "      <td>2002-10-04</td>\n",
       "      <td>2.8</td>\n",
       "      <td>0.00</td>\n",
       "      <td>52.9</td>\n",
       "      <td>34.0</td>\n",
       "    </tr>\n",
       "    <tr>\n",
       "      <td>2002-10-05</td>\n",
       "      <td>2.6</td>\n",
       "      <td>0.00</td>\n",
       "      <td>50.5</td>\n",
       "      <td>34.8</td>\n",
       "    </tr>\n",
       "    <tr>\n",
       "      <td>...</td>\n",
       "      <td>...</td>\n",
       "      <td>...</td>\n",
       "      <td>...</td>\n",
       "      <td>...</td>\n",
       "    </tr>\n",
       "    <tr>\n",
       "      <td>2012-09-26</td>\n",
       "      <td>4.4</td>\n",
       "      <td>0.00</td>\n",
       "      <td>59.2</td>\n",
       "      <td>41.0</td>\n",
       "    </tr>\n",
       "    <tr>\n",
       "      <td>2012-09-27</td>\n",
       "      <td>4.3</td>\n",
       "      <td>0.00</td>\n",
       "      <td>64.1</td>\n",
       "      <td>43.2</td>\n",
       "    </tr>\n",
       "    <tr>\n",
       "      <td>2012-09-28</td>\n",
       "      <td>4.2</td>\n",
       "      <td>0.00</td>\n",
       "      <td>68.0</td>\n",
       "      <td>46.2</td>\n",
       "    </tr>\n",
       "    <tr>\n",
       "      <td>2012-09-29</td>\n",
       "      <td>4.2</td>\n",
       "      <td>0.00</td>\n",
       "      <td>69.8</td>\n",
       "      <td>50.9</td>\n",
       "    </tr>\n",
       "    <tr>\n",
       "      <td>2012-09-30</td>\n",
       "      <td>4.1</td>\n",
       "      <td>0.00</td>\n",
       "      <td>72.8</td>\n",
       "      <td>52.0</td>\n",
       "    </tr>\n",
       "  </tbody>\n",
       "</table>\n",
       "<p>3465 rows × 4 columns</p>\n",
       "</div>"
      ],
      "text/plain": [
       "            runoff_obs  precip  tmax  tmin\n",
       "Date                                      \n",
       "2002-10-01         2.7    0.13  57.4  34.6\n",
       "2002-10-02         2.7    0.97  38.4  29.7\n",
       "2002-10-03         2.8    0.04  41.2  31.7\n",
       "2002-10-04         2.8    0.00  52.9  34.0\n",
       "2002-10-05         2.6    0.00  50.5  34.8\n",
       "...                ...     ...   ...   ...\n",
       "2012-09-26         4.4    0.00  59.2  41.0\n",
       "2012-09-27         4.3    0.00  64.1  43.2\n",
       "2012-09-28         4.2    0.00  68.0  46.2\n",
       "2012-09-29         4.2    0.00  69.8  50.9\n",
       "2012-09-30         4.1    0.00  72.8  52.0\n",
       "\n",
       "[3465 rows x 4 columns]"
      ]
     },
     "execution_count": 188,
     "metadata": {},
     "output_type": "execute_result"
    }
   ],
   "source": [
    "data"
   ]
  },
  {
   "cell_type": "code",
   "execution_count": 189,
   "metadata": {},
   "outputs": [],
   "source": [
    "data_values = data.values\n",
    "features = data_values[:,1:]\n",
    "values = data_values[:,0]"
   ]
  },
  {
   "cell_type": "code",
   "execution_count": 190,
   "metadata": {},
   "outputs": [],
   "source": [
    "from sklearn.model_selection import train_test_split"
   ]
  },
  {
   "cell_type": "code",
   "execution_count": 191,
   "metadata": {},
   "outputs": [],
   "source": [
    "X_train, X_test, Y_train, Y_test = train_test_split(features, values,test_size=0.3)"
   ]
  },
  {
   "cell_type": "code",
   "execution_count": 192,
   "metadata": {},
   "outputs": [],
   "source": [
    "arr = []\n"
   ]
  },
  {
   "cell_type": "code",
   "execution_count": 193,
   "metadata": {},
   "outputs": [],
   "source": [
    "arr.append(X_train)"
   ]
  },
  {
   "cell_type": "code",
   "execution_count": 194,
   "metadata": {},
   "outputs": [
    {
     "data": {
      "text/plain": [
       "[array([[0.00e+00, 5.18e+01, 3.14e+01],\n",
       "        [5.00e-02, 4.27e+01, 3.11e+01],\n",
       "        [0.00e+00, 6.74e+01, 3.67e+01],\n",
       "        ...,\n",
       "        [0.00e+00, 5.06e+01, 2.58e+01],\n",
       "        [0.00e+00, 6.50e+01, 4.23e+01],\n",
       "        [0.00e+00, 7.15e+01, 4.36e+01]])]"
      ]
     },
     "execution_count": 194,
     "metadata": {},
     "output_type": "execute_result"
    }
   ],
   "source": [
    "arr"
   ]
  },
  {
   "cell_type": "code",
   "execution_count": 195,
   "metadata": {},
   "outputs": [],
   "source": [
    "arr.extend(x_train)"
   ]
  },
  {
   "cell_type": "code",
   "execution_count": 196,
   "metadata": {},
   "outputs": [
    {
     "data": {
      "text/plain": [
       "[array([[0.00e+00, 5.18e+01, 3.14e+01],\n",
       "        [5.00e-02, 4.27e+01, 3.11e+01],\n",
       "        [0.00e+00, 6.74e+01, 3.67e+01],\n",
       "        ...,\n",
       "        [0.00e+00, 5.06e+01, 2.58e+01],\n",
       "        [0.00e+00, 6.50e+01, 4.23e+01],\n",
       "        [0.00e+00, 7.15e+01, 4.36e+01]]),\n",
       " array([ 0. , 84.4, 61.1]),\n",
       " array([1.00e-02, 7.05e+01, 4.47e+01]),\n",
       " array([ 0. , 61.6, 38.1]),\n",
       " array([ 0. , 72.3, 47.6]),\n",
       " array([ 0. , 86.4, 55.2]),\n",
       " array([ 0. , 77.7, 46.6]),\n",
       " array([ 0. , 71.9, 44.7]),\n",
       " array([ 0. , 77.8, 51.8]),\n",
       " array([ 0. , 77.2, 54.8]),\n",
       " array([ 0.1, 82.4, 58.5]),\n",
       " array([ 0. , 77.4, 51.8]),\n",
       " array([ 0.08, 70.1 , 47.5 ]),\n",
       " array([ 0.11, 73.7 , 56.  ]),\n",
       " array([ 0. , 83.7, 59.4]),\n",
       " array([ 0. , 81.2, 57.6]),\n",
       " array([ 0. , 92.9, 68.6]),\n",
       " array([ 0. , 82. , 51.3]),\n",
       " array([ 0. , 77.8, 51.3]),\n",
       " array([ 0. , 82.9, 61. ]),\n",
       " array([ 0. , 84.7, 53.3]),\n",
       " array([ 0. , 77.8, 53.7]),\n",
       " array([5.00e-02, 5.53e+01, 3.03e+01]),\n",
       " array([4.00e-02, 4.91e+01, 2.83e+01]),\n",
       " array([ 0. , 80.7, 57.2]),\n",
       " array([ 0. , 80.3, 51.9]),\n",
       " array([ 0. , 78.2, 51.9]),\n",
       " array([2.00e-02, 7.58e+01, 4.81e+01]),\n",
       " array([ 0. , 87.1, 62.6]),\n",
       " array([1.00e-02, 8.08e+01, 5.69e+01]),\n",
       " array([ 0. , 86.8, 57.7]),\n",
       " array([ 0. , 88.7, 61.7]),\n",
       " array([ 0. , 63.5, 40.6]),\n",
       " array([ 0. , 81.9, 56.3]),\n",
       " array([6.00e-02, 8.00e+01, 5.39e+01]),\n",
       " array([ 0. , 72.7, 46.3]),\n",
       " array([ 0. , 84.6, 57.3]),\n",
       " array([3.00e-02, 7.88e+01, 5.15e+01]),\n",
       " array([2.00e-02, 7.91e+01, 5.79e+01]),\n",
       " array([ 0.09, 81.1 , 52.7 ]),\n",
       " array([ 0. , 85.6, 59. ]),\n",
       " array([ 0. , 79.9, 57.8]),\n",
       " array([ 0.34, 58.6 , 36.5 ]),\n",
       " array([ 0. , 73.2, 40.9]),\n",
       " array([ 0. , 77.4, 51.2]),\n",
       " array([ 0.33, 81.9 , 53.9 ]),\n",
       " array([ 0. , 85. , 50.3]),\n",
       " array([ 0. , 91.4, 60.2]),\n",
       " array([ 0. , 79.3, 50. ]),\n",
       " array([1.00e-02, 5.22e+01, 3.68e+01]),\n",
       " array([ 0. , 93.3, 64.8]),\n",
       " array([ 0. , 82.8, 60.2]),\n",
       " array([ 0. , 84.1, 59.3]),\n",
       " array([ 0. , 64.6, 44.1]),\n",
       " array([ 0. , 83.6, 60.1]),\n",
       " array([ 0. , 83.8, 63.8]),\n",
       " array([ 0. , 75.6, 48.5]),\n",
       " array([ 0. , 86.7, 55.4]),\n",
       " array([ 0. , 71.9, 48.5]),\n",
       " array([8.00e-02, 8.89e+01, 6.05e+01]),\n",
       " array([ 0.14, 79.3 , 59.7 ]),\n",
       " array([ 0.07, 51.  , 39.3 ]),\n",
       " array([ 0. , 71. , 54.6]),\n",
       " array([ 0. , 74.8, 51.3]),\n",
       " array([ 0. , 78.7, 54.5]),\n",
       " array([2.00e-02, 5.53e+01, 3.68e+01]),\n",
       " array([4.00e-02, 9.11e+01, 6.31e+01]),\n",
       " array([ 0. , 80.6, 53.7]),\n",
       " array([ 0. , 72.2, 44.2]),\n",
       " array([ 0. , 89.1, 58.7]),\n",
       " array([6.00e-02, 6.79e+01, 4.56e+01]),\n",
       " array([1.00e-02, 7.57e+01, 5.05e+01]),\n",
       " array([ 0. , 70.8, 43.1]),\n",
       " array([ 0. , 89.3, 61.2]),\n",
       " array([ 0. , 88.6, 62.8]),\n",
       " array([ 0. , 76.7, 53.5]),\n",
       " array([ 0.15, 82.  , 56.8 ]),\n",
       " array([ 0. , 72.8, 50.5]),\n",
       " array([ 0. , 82.3, 55.8]),\n",
       " array([ 0. , 81.1, 53.3]),\n",
       " array([1.00e-02, 8.44e+01, 5.90e+01]),\n",
       " array([ 0.12, 76.5 , 55.8 ]),\n",
       " array([ 0. , 80.5, 50.4]),\n",
       " array([ 0. , 61.8, 39.7]),\n",
       " array([ 0. , 81.1, 51.7]),\n",
       " array([ 0. , 88.7, 62.5]),\n",
       " array([ 0.2, 77.5, 53. ]),\n",
       " array([ 0. , 59.9, 30.5]),\n",
       " array([ 0. , 66.9, 39.5]),\n",
       " array([ 0. , 69.7, 44.1]),\n",
       " array([ 0. , 86.6, 57.7]),\n",
       " array([ 0. , 76.5, 50.2]),\n",
       " array([ 0. , 92.5, 66.8]),\n",
       " array([ 0. , 68.8, 40.9]),\n",
       " array([ 0.16, 78.9 , 56.1 ]),\n",
       " array([1.00e-02, 7.63e+01, 4.77e+01]),\n",
       " array([ 0. , 74.9, 58.8]),\n",
       " array([ 0. , 86.3, 60.6]),\n",
       " array([ 0. , 58.3, 34.8]),\n",
       " array([ 0.38, 47.5 , 39.3 ]),\n",
       " array([2.00e-02, 7.36e+01, 4.48e+01]),\n",
       " array([ 0. , 67.9, 42.4]),\n",
       " array([ 0. , 67.2, 41.4]),\n",
       " array([1.00e-02, 6.94e+01, 4.51e+01]),\n",
       " array([ 0. , 77.9, 45.3]),\n",
       " array([ 0. , 76.8, 54.5]),\n",
       " array([ 0., 82., 57.]),\n",
       " array([ 0. , 86.8, 61.2]),\n",
       " array([ 0. , 81.8, 53.7]),\n",
       " array([ 0. , 85.6, 60.2]),\n",
       " array([ 0. , 71.9, 39.7]),\n",
       " array([ 0. , 84.2, 60.5]),\n",
       " array([7.00e-02, 7.71e+01, 5.36e+01]),\n",
       " array([ 0. , 80.1, 57. ]),\n",
       " array([ 0. , 83.9, 48.3]),\n",
       " array([ 0. , 74.9, 46.2]),\n",
       " array([8.00e-02, 8.30e+01, 5.79e+01]),\n",
       " array([ 0. , 77.9, 56.5]),\n",
       " array([ 0. , 86.5, 54.5]),\n",
       " array([ 0. , 85.1, 56.2]),\n",
       " array([ 0. , 81.2, 53.8]),\n",
       " array([ 0.24, 83.3 , 57.9 ]),\n",
       " array([ 0. , 69.2, 41.4]),\n",
       " array([ 0. , 70.3, 42.4]),\n",
       " array([ 0. , 90.2, 62.6]),\n",
       " array([2.00e-02, 7.82e+01, 5.45e+01]),\n",
       " array([ 0. , 66.3, 45.1]),\n",
       " array([ 0. , 92.9, 64.6]),\n",
       " array([ 0. , 77.3, 56.3]),\n",
       " array([ 0. , 86.6, 62.2]),\n",
       " array([ 0. , 85.8, 56.6]),\n",
       " array([ 0. , 84.9, 57.2])]"
      ]
     },
     "execution_count": 196,
     "metadata": {},
     "output_type": "execute_result"
    }
   ],
   "source": [
    "arr"
   ]
  }
 ],
 "metadata": {
  "kernelspec": {
   "display_name": "Python 3",
   "language": "python",
   "name": "python3"
  },
  "language_info": {
   "codemirror_mode": {
    "name": "ipython",
    "version": 3
   },
   "file_extension": ".py",
   "mimetype": "text/x-python",
   "name": "python",
   "nbconvert_exporter": "python",
   "pygments_lexer": "ipython3",
   "version": "3.6.8"
  }
 },
 "nbformat": 4,
 "nbformat_minor": 2
}
